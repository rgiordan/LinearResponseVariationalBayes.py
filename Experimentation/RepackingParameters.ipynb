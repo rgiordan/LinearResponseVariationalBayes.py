{
 "cells": [
  {
   "cell_type": "code",
   "execution_count": 1,
   "metadata": {},
   "outputs": [],
   "source": [
    "import autograd\n",
    "from autograd import numpy as np\n",
    "import VariationalBayes as vb"
   ]
  },
  {
   "cell_type": "code",
   "execution_count": 7,
   "metadata": {},
   "outputs": [
    {
     "name": "stdout",
     "output_type": "stream",
     "text": [
      "Full:\n",
      "\ta:\n",
      "[ 0.  0.  0.  0.  0.]\n",
      "\tb: 0.0\n",
      "\tc:\n",
      "[[ 1.  0.  0.]\n",
      " [ 0.  1.  0.]\n",
      " [ 0.  0.  1.]]\n"
     ]
    }
   ],
   "source": [
    "params = vb.ModelParamsDict('Full')\n",
    "params.push_param(vb.VectorParam('a', size=5))\n",
    "params.push_param(vb.ScalarParam('b'))\n",
    "params.push_param(vb.PosDefMatrixParam('c', size=3))\n",
    "print(params)"
   ]
  },
  {
   "cell_type": "code",
   "execution_count": 8,
   "metadata": {},
   "outputs": [
    {
     "name": "stdout",
     "output_type": "stream",
     "text": [
      "a:\n",
      "[ 0.66490073  0.46797731  0.30266936  0.5819356   0.12881259]\n",
      "a:\n",
      "[ 0.66490073  0.46797731  0.30266936  0.5819356   0.12881259]\n"
     ]
    }
   ],
   "source": [
    "sub_params = vb.ModelParamsDict('Sub')\n",
    "sub_params.push_param(params['a'])\n",
    "sub_params['a'].set_free(np.random.random(sub_params['a'].free_size()))\n",
    "print(params['a'])\n",
    "print(sub_params['a'])"
   ]
  },
  {
   "cell_type": "code",
   "execution_count": 9,
   "metadata": {},
   "outputs": [
    {
     "name": "stdout",
     "output_type": "stream",
     "text": [
      "b: [ 0.41888219]\n",
      "b: [ 0.41888219]\n"
     ]
    }
   ],
   "source": [
    "sub_params = vb.ModelParamsDict('Sub')\n",
    "sub_params.push_param(params['b'])\n",
    "sub_params['b'].set_free(np.random.random(sub_params['b'].free_size()))\n",
    "print(params['b'])\n",
    "print(sub_params['b'])"
   ]
  },
  {
   "cell_type": "code",
   "execution_count": 10,
   "metadata": {},
   "outputs": [
    {
     "name": "stdout",
     "output_type": "stream",
     "text": [
      "c:\n",
      "[[ 2.14834943  0.47125169  1.22076325]\n",
      " [ 0.47125169  1.81840264  1.10251585]\n",
      " [ 1.22076325  1.10251585  3.39606233]]\n",
      "c:\n",
      "[[ 2.14834943  0.47125169  1.22076325]\n",
      " [ 0.47125169  1.81840264  1.10251585]\n",
      " [ 1.22076325  1.10251585  3.39606233]]\n"
     ]
    }
   ],
   "source": [
    "sub_params = vb.ModelParamsDict('Sub')\n",
    "sub_params.push_param(params['c'])\n",
    "sub_params['c'].set_free(np.random.random(sub_params['c'].free_size()))\n",
    "print(params['c'])\n",
    "print(sub_params['c'])"
   ]
  },
  {
   "cell_type": "code",
   "execution_count": 11,
   "metadata": {},
   "outputs": [
    {
     "name": "stdout",
     "output_type": "stream",
     "text": [
      "Full:\n",
      "\ta:\n",
      "[ 0.66490073  0.46797731  0.30266936  0.5819356   0.12881259]\n",
      "\tb: [ 0.41888219]\n",
      "\tc:\n",
      "[[ 2.14834943  0.47125169  1.22076325]\n",
      " [ 0.47125169  1.81840264  1.10251585]\n",
      " [ 1.22076325  1.10251585  3.39606233]]\n"
     ]
    }
   ],
   "source": [
    "print(params)"
   ]
  },
  {
   "cell_type": "code",
   "execution_count": 39,
   "metadata": {},
   "outputs": [],
   "source": [
    "from VariationalBayes import ArrayParam\n",
    "\n",
    "\n",
    "ap = vb.ArrayParam('full', shape=(6, 8))\n",
    "ap.set_free(np.random.random(ap.free_size()))\n",
    "ap_shape = ap.shape()\n",
    "\n",
    "\n"
   ]
  },
  {
   "cell_type": "code",
   "execution_count": 41,
   "metadata": {},
   "outputs": [
    {
     "name": "stdout",
     "output_type": "stream",
     "text": [
      "[[ 0.01699038  0.33888272  0.9616943   0.54846651  0.86943449  0.53276709\n",
      "   0.70249896  0.40713905]\n",
      " [ 0.47774689  0.23713409  0.11504061  0.24598823  0.4758053   0.08409119\n",
      "   0.57398639  0.07543381]\n",
      " [ 0.70387704  0.92138867  0.18190259  0.20737976  0.37043285  0.05306023\n",
      "   0.26600189  0.40355764]\n",
      " [ 0.45673711  0.22750412  0.58126048  0.33795698  0.45951934  0.59032289\n",
      "   0.38486094  0.78273733]\n",
      " [ 0.03186865  0.71263906  0.13319375  0.52827641  0.5207389   0.32408118\n",
      "   0.24011857  0.77501691]\n",
      " [ 0.62172062  0.40669053  0.24492825  0.4240796   0.858818    0.44201267\n",
      "   0.34054959  0.15988795]]\n",
      "\n",
      "\n",
      "[[ 0.11504061  0.24598823  0.4758053 ]\n",
      " [ 0.18190259  0.20737976  0.37043285]]\n"
     ]
    }
   ],
   "source": [
    "ap_slice = (slice(1, 3), slice(2, 5))\n",
    "print(ap.get())\n",
    "print('\\n')\n",
    "print(ap.get()[ap_slice])\n"
   ]
  },
  {
   "cell_type": "code",
   "execution_count": 58,
   "metadata": {},
   "outputs": [
    {
     "name": "stdout",
     "output_type": "stream",
     "text": [
      "(2, 3)\n"
     ]
    }
   ],
   "source": [
    "foo = slice(2, 3, 1)\n",
    "assert foo.step == 1\n",
    "ap_slice_shape = tuple([ axis_slice.stop - axis_slice.start for axis_slice in ap_slice])\n",
    "print(ap_slice_shape)"
   ]
  },
  {
   "cell_type": "code",
   "execution_count": 60,
   "metadata": {},
   "outputs": [
    {
     "name": "stdout",
     "output_type": "stream",
     "text": [
      "[[ 0.49629572  0.12351255  0.89077062]\n",
      " [ 0.64074006  0.75747942  0.31999968]]\n"
     ]
    }
   ],
   "source": [
    "# Maybe you can get differentiable array assignments like this.\n",
    "\n",
    "mask = np.ones(ap_shape)\n",
    "mask[ap_slice] = 0.\n",
    "\n",
    "new_vals = np.random.random(ap_slice_shape)\n",
    "print(new_vals)\n"
   ]
  },
  {
   "cell_type": "code",
   "execution_count": 13,
   "metadata": {
    "collapsed": true
   },
   "outputs": [],
   "source": [
    "\n",
    "class SubArrayParam(object):\n",
    "    def __init__(self, name='', full_array_param=ArrayParam(), ap_slice=None):\n",
    "        self.name = name\n",
    "        self.full_array_param = full_array_param\n",
    "        self.__full_shape = full_array_param.shape()\n",
    "        if ap_slice is None:\n",
    "            self.ap_slice = self.get_full_slice()\n",
    "        else:\n",
    "            self.ap_slice = ap_slice\n",
    "        \n",
    "    def get_full_slice(self):\n",
    "        tuple([ slice(0, axis_size) for axis_size in self.__full_shape ])\n",
    "        \n",
    "    def __str__(self):\n",
    "        return self.name + ':\\n' + str(self.__val)\n",
    "    def names(self):\n",
    "        return self.name\n",
    "    def dictval(self):\n",
    "        return self.__val.tolist()\n",
    "\n",
    "    def set(self, val):\n",
    "        # TODO: check for bounds and shapes\n",
    "        \n",
    "        # ... Got to this point and realized that setting this in a differentiable\n",
    "        # manner will be tricky.\n",
    "        self.__val = val\n",
    "    def get(self):\n",
    "        return self.full_array_param.get()[self.ap_slice]\n",
    "\n",
    "    def set_free(self, free_val):\n",
    "        if free_val.size != self.free_size():\n",
    "            error_string = \\\n",
    "                'Wrong size for array {}.  Expected {}, got {}'.format(\n",
    "                    self.name, str(self.free_size()), str(free_val.size))\n",
    "            raise ValueError(error_string)\n",
    "        self.set(constrain(free_val, self.__lb, self.__ub).reshape(self.__shape))\n",
    "    def get_free(self):\n",
    "        return unconstrain_array(self.__val, self.__lb, self.__ub)\n",
    "    def free_to_vector(self, free_val):\n",
    "        self.set_free(free_val)\n",
    "        return self.get_vector()\n",
    "    def free_to_vector_jac(self, free_val):\n",
    "        rows_indices = np.array(range(self.vector_size()))\n",
    "        grads = [ constrain_scalar_jac(free_val[vec_ind], self.__lb, self.__ub) \\\n",
    "                  for vec_ind in range(self.vector_size()) ]\n",
    "        return coo_matrix((grads,\n",
    "                          (rows_indices, rows_indices)),\n",
    "                          (self.vector_size(), self.free_size()))\n",
    "    def free_to_vector_hess(self, free_val):\n",
    "        def get_ind_hess(vec_ind):\n",
    "            hess = constrain_scalar_hess(free_val[vec_ind], self.__lb, self.__ub)\n",
    "            return coo_matrix(([ hess ],\n",
    "                               ([vec_ind], [vec_ind])),\n",
    "                               (self.free_size(), self.vector_size()))\n",
    "        return np.array([ get_ind_hess(vec_ind)\n",
    "                          for vec_ind in range(self.vector_size()) ])\n",
    "\n",
    "    def set_vector(self, val):\n",
    "        if val.size != self.vector_size():\n",
    "            error_string = \\\n",
    "                'Wrong size for array {}.  Expected {}, got {}'.format(\n",
    "                    self.name, str(self.vector_size()), str(val.size))\n",
    "            raise ValueError(error_string)\n",
    "        self.set(val.reshape(self.__shape))\n",
    "    def get_vector(self):\n",
    "        return self.__val.flatten()\n",
    "\n",
    "    def shape(self):\n",
    "        return self.__shape\n",
    "    def free_size(self):\n",
    "        return int(np.product(self.__shape))\n",
    "    def vector_size(self):\n",
    "        return int(np.product(self.__shape))\n"
   ]
  }
 ],
 "metadata": {
  "kernelspec": {
   "display_name": "Python 3",
   "language": "python",
   "name": "python3"
  },
  "language_info": {
   "codemirror_mode": {
    "name": "ipython",
    "version": 3
   },
   "file_extension": ".py",
   "mimetype": "text/x-python",
   "name": "python",
   "nbconvert_exporter": "python",
   "pygments_lexer": "ipython3",
   "version": "3.5.2"
  }
 },
 "nbformat": 4,
 "nbformat_minor": 2
}
