{
 "cells": [
  {
   "cell_type": "code",
   "execution_count": 1,
   "metadata": {},
   "outputs": [
    {
     "name": "stdout",
     "output_type": "stream",
     "text": [
      "Group 0 of 6.\n",
      "(2, 8)\n",
      "[ 8 15]\n",
      "Group 1 of 6.\n",
      "(2, 8)\n",
      "[ 9 16]\n",
      "Group 2 of 6.\n",
      "(2, 8)\n",
      "[10 17]\n",
      "Group 3 of 6.\n",
      "(2, 8)\n",
      "[11 18]\n",
      "Group 4 of 6.\n",
      "(2, 8)\n",
      "[12 19]\n",
      "Group 5 of 6.\n",
      "(2, 8)\n",
      "[13 20]\n",
      "Group 6 of 6.\n",
      "(2, 8)\n",
      "[14 21]\n"
     ]
    }
   ],
   "source": [
    "import VariationalBayes as vb\n",
    "import LogisticGLMM_lib as logit_glmm\n",
    "import VariationalBayes.SparseObjectives as obj_lib\n",
    "\n",
    "import autograd\n",
    "import unittest\n",
    "import numpy.testing as np_test\n",
    "import numpy as np\n",
    "\n",
    "\n",
    "def simulate_data(N, K, NG):\n",
    "    np.random.seed(42)\n",
    "    true_beta = np.array(range(K))\n",
    "    true_beta = true_beta - np.mean(true_beta)\n",
    "    true_mu = 0.\n",
    "    true_tau = 40.0\n",
    "\n",
    "    x_mat, y_g_vec, y_vec, true_rho, true_u = \\\n",
    "        logit_glmm.simulate_data(N, NG, true_beta, true_mu, true_tau)\n",
    "\n",
    "    return x_mat, y_g_vec, y_vec\n",
    "\n",
    "\n",
    "N = 17\n",
    "K = 2\n",
    "NG = 7\n",
    "\n",
    "x_mat, y_g_vec, y_vec = simulate_data(N, K, NG)\n",
    "prior_par = logit_glmm.get_default_prior_params(K)\n",
    "glmm_par = logit_glmm.get_glmm_parameters(K=K, NG=NG)\n",
    "\n",
    "model = logit_glmm.LogisticGLMM(\n",
    "    glmm_par, prior_par, x_mat, y_vec, y_g_vec, num_gh_points=4)\n",
    "moment_wrapper = logit_glmm.MomentWrapper(glmm_par)\n",
    "\n",
    "free_par = np.random.random(model.glmm_par.free_size())\n",
    "\n",
    "model.glmm_par.set_free(free_par)\n",
    "group_model = logit_glmm.SubGroupsModel(model)\n",
    "global_model = logit_glmm.GlobalModel(model)\n",
    "\n",
    "################################\n",
    "# Test get_data_for_groups\n",
    "\n",
    "g = 2\n",
    "group_rows, y_g_select = group_model.get_data_for_groups([g])\n",
    "np_test.assert_array_almost_equal(\n",
    "    x_mat[group_rows, :], x_mat[y_g_vec == g, :])\n",
    "np_test.assert_array_almost_equal(\n",
    "    y_vec[group_rows], y_vec[y_g_vec == g])\n",
    "#self.assertEqual(len(y_g_select), sum(group_rows))\n",
    "\n",
    "########################\n",
    "# Test the objectives.\n",
    "\n",
    "# Testing the sparse objective.\n",
    "g = 2\n",
    "global_model.set_global_parameters()\n",
    "group_model.set_group_parameters([g])\n",
    "single_group_model = logit_glmm.LogisticGLMM(\n",
    "    group_model.group_par, prior_par,\n",
    "    x_mat[group_rows, :], y_vec[group_rows], y_g_select,\n",
    "    num_gh_points = model.num_gh_points)\n",
    "np_test.assert_array_almost_equal(\n",
    "    single_group_model.glmm_par.get_vector(),\n",
    "    group_model.group_par.get_vector(),\n",
    "    err_msg='Group model parameter equality')\n",
    "\n",
    "# Checking that a single group is equal.\n",
    "single_group_kl = single_group_model.get_kl()\n",
    "sparse_kl = \\\n",
    "    global_model.get_global_kl() + \\\n",
    "    group_model.get_group_kl()\n",
    "\n",
    "# np_test.assert_array_almost_equal(\n",
    "#     single_group_kl, sparse_kl,\n",
    "#     err_msg=\"Group model kl equality\")\n",
    "\n",
    "# Checking the full kl is equal.\n",
    "sparse_kl = global_model.get_global_kl()\n",
    "for g in range(NG):\n",
    "    group_model.set_group_parameters([g])\n",
    "    sparse_kl += group_model.get_group_kl()\n",
    "\n",
    "# np_test.assert_array_almost_equal(\n",
    "#     model.objective.fun_free(free_par), sparse_kl)\n",
    "\n",
    "# Check that the vector Hessian is equal.\n",
    "model.glmm_par.set_free(free_par)\n",
    "global_model.glmm_par.set_free(free_par)\n",
    "group_model.glmm_par.set_free(free_par)\n",
    "\n",
    "sparse_vector_hess = \\\n",
    "    group_model.get_sparse_kl_vec_hessian(print_every_n=-1) + \\\n",
    "    global_model.get_sparse_kl_vec_hessian()\n",
    "full_vector_hess = \\\n",
    "    model.objective.fun_vector_hessian(model.glmm_par.get_vector())\n",
    "\n",
    "# np_test.assert_array_almost_equal(\n",
    "#     full_vector_hess,\n",
    "#     np.array(sparse_vector_hess.todense()),\n",
    "#     err_msg='Sparse vector Hessian equality')\n",
    "\n",
    "\n",
    "\n",
    "\n",
    "\n",
    "\n",
    "\n",
    "# # Check that the free Hessian is equal.\n",
    "# #sparse_hess = sparse_model.get_free_hessian(sparse_vector_hess)\n",
    "# sparse_hess = logit_glmm.get_free_hessian(\n",
    "#     model, group_model=group_model, global_model=global_model)\n",
    "# full_hess = model.objective.fun_free_hessian(\n",
    "#     model.glmm_par.get_free())\n",
    "\n",
    "# np_test.assert_array_almost_equal(\n",
    "#     full_hess,\n",
    "#     np.asarray(sparse_hess.todense()),\n",
    "#     err_msg='Sparse free Hessian equality')\n",
    "\n",
    "# # Check that the weight jacobian is equal.\n",
    "# sparse_jac = group_model.get_sparse_weight_vec_jacobian()\n",
    "# def get_data_terms_vec(glmm_par_vec):\n",
    "#     model.glmm_par.set_vector(glmm_par_vec)\n",
    "#     return model.get_data_log_lik_terms()\n",
    "# def get_data_terms_free(glmm_par_free):\n",
    "#     model.glmm_par.set_free(glmm_par_free)\n",
    "#     return model.get_data_log_lik_terms()\n",
    "\n",
    "# model.use_weights = True\n",
    "# def get_weighted_kl_vec(weights, vec_par):\n",
    "#     model.glmm_par.set_vector(vec_par)\n",
    "#     model.weights = weights\n",
    "#     return model.get_kl()\n",
    "\n",
    "# def get_weighted_kl_free(weights, free_par):\n",
    "#     model.glmm_par.set_free(free_par)\n",
    "#     model.weights = weights\n",
    "#     return model.get_kl()\n",
    "\n",
    "# get_weighted_kl_vec_grad = autograd.grad(get_weighted_kl_vec, argnum=0)\n",
    "# get_weighted_kl_vec_jac = autograd.jacobian(\n",
    "#     get_weighted_kl_vec_grad, argnum=1)\n",
    "# full_jac = get_weighted_kl_vec_jac(\n",
    "#     model.weights, model.glmm_par.get_vector())\n",
    "\n",
    "# #self.assertEqual(full_jac.shape, sparse_jac.shape)\n",
    "# np_test.assert_array_almost_equal(\n",
    "#     full_jac,\n",
    "#     np.asarray(sparse_jac.todense()),\n",
    "#     err_msg='Sparse vector Jacobian equality')\n",
    "\n",
    "# sparse_free_jac = \\\n",
    "#     logit_glmm.get_sparse_weight_free_jacobian(group_model)\n",
    "# get_weighted_kl_free_grad = autograd.grad(get_weighted_kl_free, argnum=0)\n",
    "# get_weighted_kl_free_jac = autograd.jacobian(\n",
    "#     get_weighted_kl_free_grad, argnum=1)\n",
    "# full_free_jac = get_weighted_kl_free_jac(\n",
    "#     model.weights, model.glmm_par.get_free())\n",
    "\n",
    "# #self.assertEqual(full_free_jac.shape, sparse_free_jac.shape)\n",
    "# np_test.assert_array_almost_equal(\n",
    "#     full_free_jac,\n",
    "#     np.asarray(sparse_free_jac.todense()),\n",
    "#     err_msg='Sparse free Jacobian equality')\n"
   ]
  },
  {
   "cell_type": "code",
   "execution_count": 2,
   "metadata": {},
   "outputs": [
    {
     "data": {
      "text/plain": [
       "[<matplotlib.lines.Line2D at 0x7f95a053cd68>]"
      ]
     },
     "execution_count": 2,
     "metadata": {},
     "output_type": "execute_result"
    },
    {
     "data": {
      "image/png": "[encoded data removed]",
      "text/plain": [
       "<matplotlib.figure.Figure at 0x7f95dc329780>"
      ]
     },
     "metadata": {},
     "output_type": "display_data"
    },
    {
     "data": {
      "image/png": "[encoded data removed]",
      "text/plain": [
       "<matplotlib.figure.Figure at 0x7f95a07736a0>"
      ]
     },
     "metadata": {},
     "output_type": "display_data"
    },
    {
     "data": {
      "image/png": "[encoded data removed]",
      "text/plain": [
       "<matplotlib.figure.Figure at 0x7f95a07187b8>"
      ]
     },
     "metadata": {},
     "output_type": "display_data"
    },
    {
     "data": {
      "image/png": "[encoded data removed]",
      "text/plain": [
       "<matplotlib.figure.Figure at 0x7f95a0638668>"
      ]
     },
     "metadata": {},
     "output_type": "display_data"
    },
    {
     "data": {
      "image/png": "[encoded data removed]",
      "text/plain": [
       "<matplotlib.figure.Figure at 0x7f95a05bc908>"
      ]
     },
     "metadata": {},
     "output_type": "display_data"
    },
    {
     "data": {
      "image/png": "[encoded data removed]",
      "text/plain": [
       "<matplotlib.figure.Figure at 0x7f95a0534390>"
      ]
     },
     "metadata": {},
     "output_type": "display_data"
    }
   ],
   "source": [
    "import matplotlib.pyplot as plt\n",
    "%matplotlib inline\n",
    "global_ind = group_model.global_indices.get_vector()\n",
    "\n",
    "sp_hess = np.array(sparse_vector_hess.todense())\n",
    "plt.matshow(full_vector_hess - sp_hess); plt.colorbar()\n",
    "plt.title(\"difference\")\n",
    "\n",
    "plt.matshow(full_vector_hess); plt.colorbar()\n",
    "plt.title(\"full hess\")\n",
    "\n",
    "plt.matshow(sp_hess); plt.colorbar()\n",
    "plt.title(\"sparse hess\")\n",
    "\n",
    "plt.matshow((full_vector_hess - sp_hess)[np.ix_(global_ind, global_ind)]); plt.colorbar()\n",
    "plt.title(\"Global difference\")\n",
    "\n",
    "plt.figure()\n",
    "plt.plot(full_vector_hess[np.ix_(global_ind, global_ind)].flatten(),\n",
    "         sp_hess[np.ix_(global_ind, global_ind)].flatten(), 'k.')\n",
    "plt.plot(full_vector_hess.flatten(), full_vector_hess.flatten(), 'r')\n",
    "\n",
    "plt.figure()\n",
    "plt.plot(full_vector_hess.flatten(), sp_hess.flatten(), 'k.')\n",
    "plt.plot(full_vector_hess.flatten(), full_vector_hess.flatten(), 'r')"
   ]
  }
 ],
 "metadata": {
  "kernelspec": {
   "display_name": "Python 3",
   "language": "python",
   "name": "python3"
  },
  "language_info": {
   "codemirror_mode": {
    "name": "ipython",
    "version": 3
   },
   "file_extension": ".py",
   "mimetype": "text/x-python",
   "name": "python",
   "nbconvert_exporter": "python",
   "pygments_lexer": "ipython3",
   "version": "3.5.2"
  }
 },
 "nbformat": 4,
 "nbformat_minor": 2
}
